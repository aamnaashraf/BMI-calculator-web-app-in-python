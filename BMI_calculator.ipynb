{
  "nbformat": 4,
  "nbformat_minor": 0,
  "metadata": {
    "colab": {
      "provenance": [],
      "authorship_tag": "ABX9TyN4g/Mt/y7Htmka2Im3lmic",
      "include_colab_link": true
    },
    "kernelspec": {
      "name": "python3",
      "display_name": "Python 3"
    },
    "language_info": {
      "name": "python"
    }
  },
  "cells": [
    {
      "cell_type": "markdown",
      "metadata": {
        "id": "view-in-github",
        "colab_type": "text"
      },
      "source": [
        "<a href=\"https://colab.research.google.com/github/aamnaashraf/BMI-calculator-web-app-in-python/blob/main/BMI_calculator.ipynb\" target=\"_parent\"><img src=\"https://colab.research.google.com/assets/colab-badge.svg\" alt=\"Open In Colab\"/></a>"
      ]
    },
    {
      "cell_type": "code",
      "execution_count": 1,
      "metadata": {
        "colab": {
          "base_uri": "https://localhost:8080/"
        },
        "id": "PDQubVEqgorv",
        "outputId": "55692e26-16d0-4d42-8dde-abeca01063a3"
      },
      "outputs": [
        {
          "output_type": "stream",
          "name": "stdout",
          "text": [
            "\u001b[2K     \u001b[90m━━━━━━━━━━━━━━━━━━━━━━━━━━━━━━━━━━━━━━━━\u001b[0m \u001b[32m44.3/44.3 kB\u001b[0m \u001b[31m1.4 MB/s\u001b[0m eta \u001b[36m0:00:00\u001b[0m\n",
            "\u001b[2K   \u001b[90m━━━━━━━━━━━━━━━━━━━━━━━━━━━━━━━━━━━━━━━━\u001b[0m \u001b[32m9.6/9.6 MB\u001b[0m \u001b[31m23.8 MB/s\u001b[0m eta \u001b[36m0:00:00\u001b[0m\n",
            "\u001b[2K   \u001b[90m━━━━━━━━━━━━━━━━━━━━━━━━━━━━━━━━━━━━━━━━\u001b[0m \u001b[32m6.9/6.9 MB\u001b[0m \u001b[31m22.4 MB/s\u001b[0m eta \u001b[36m0:00:00\u001b[0m\n",
            "\u001b[2K   \u001b[90m━━━━━━━━━━━━━━━━━━━━━━━━━━━━━━━━━━━━━━━━\u001b[0m \u001b[32m79.1/79.1 kB\u001b[0m \u001b[31m1.6 MB/s\u001b[0m eta \u001b[36m0:00:00\u001b[0m\n",
            "\u001b[?25h"
          ]
        }
      ],
      "source": [
        "# Cell 1: Install required packages\n",
        "!pip install streamlit pyngrok --quiet"
      ]
    },
    {
      "cell_type": "code",
      "source": [
        "# Cell 2: Create Streamlit app file\n",
        "%%writefile app.py\n",
        "import streamlit as st\n",
        "\n",
        "# Configure page settings\n",
        "st.set_page_config(\n",
        "    page_title=\"Colab BMI Calculator\",\n",
        "    page_icon=\"⚖️\",\n",
        "    layout=\"centered\"\n",
        ")\n",
        "\n",
        "# Custom CSS styling\n",
        "st.markdown(\"\"\"\n",
        "<style>\n",
        "    .report-title {\n",
        "        font-size: 35px !important;\n",
        "        color: #1E90FF;\n",
        "        text-align: center;\n",
        "    }\n",
        "    .result-box {\n",
        "        border: 2px solid #4CAF50;\n",
        "        border-radius: 10px;\n",
        "        padding: 20px;\n",
        "        margin: 20px 0;\n",
        "        background-color: #f8f9fa;\n",
        "    }\n",
        "    .health-tip {\n",
        "        font-size: 16px;\n",
        "        color: #2c3e50;\n",
        "        margin: 8px 0;\n",
        "    }\n",
        "</style>\n",
        "\"\"\", unsafe_allow_html=True)\n",
        "\n",
        "# Main app content\n",
        "st.markdown('<p class=\"report-title\">🏋️♂️ Cloud BMI Calculator</p>', unsafe_allow_html=True)\n",
        "st.markdown(\"---\")\n",
        "\n",
        "# Measurement system selection\n",
        "unit_system = st.radio(\n",
        "    \"Select Measurement System:\",\n",
        "    [\"Metric System (kg/m)\", \"Imperial System (lbs/inch)\"],\n",
        "    horizontal=True\n",
        ")\n",
        "\n",
        "# Input form\n",
        "with st.form(\"bmi_form\"):\n",
        "    if \"Metric\" in unit_system:\n",
        "        weight = st.number_input(\"Enter Weight (kg)\", 1.0, 300.0, 70.0)\n",
        "        height = st.number_input(\"Enter Height (meters)\", 0.5, 3.0, 1.75)\n",
        "    else:\n",
        "        weight = st.number_input(\"Enter Weight (lbs)\", 1.0, 660.0, 150.0)\n",
        "        col1, col2 = st.columns(2)\n",
        "        with col1:\n",
        "            feet = st.number_input(\"Height (feet)\", 1, 8, 5)\n",
        "        with col2:\n",
        "            inches = st.number_input(\"Height (inches)\", 0, 11, 9)\n",
        "        height = feet * 12 + inches  # Convert to total inches\n",
        "\n",
        "    submitted = st.form_submit_button(\"Calculate BMI\")\n",
        "\n",
        "# BMI calculation and results\n",
        "if submitted:\n",
        "    try:\n",
        "        if \"Metric\" in unit_system:\n",
        "            bmi = weight / (height ** 2)\n",
        "        else:\n",
        "            bmi = (weight * 703) / (height ** 2)\n",
        "\n",
        "        # Determine BMI category\n",
        "        if bmi < 18.5:\n",
        "            category = \"Underweight 🏋️\"\n",
        "            color = \"#3498db\"\n",
        "        elif 18.5 <= bmi < 25:\n",
        "            category = \"Healthy Weight ✅\"\n",
        "            color = \"#2ecc71\"\n",
        "        elif 25 <= bmi < 30:\n",
        "            category = \"Overweight ⚠️\"\n",
        "            color = \"#f1c40f\"\n",
        "        else:\n",
        "            category = \"Obese ❌\"\n",
        "            color = \"#e74c3c\"\n",
        "\n",
        "        # Display results\n",
        "        st.markdown(f\"\"\"\n",
        "        <div class=\"result-box\" style=\"border-color: {color};\">\n",
        "            <h2 style=\"color: {color};\">Your BMI: {bmi:.1f}</h2>\n",
        "            <h3 style=\"color: {color};\">{category}</h3>\n",
        "        </div>\n",
        "        \"\"\", unsafe_allow_html=True)\n",
        "\n",
        "    except ZeroDivisionError:\n",
        "        st.error(\"Height cannot be zero!\")\n",
        "\n",
        "# BMI classification chart\n",
        "with st.expander(\"📊 BMI Classification Chart\"):\n",
        "    st.markdown(\"\"\"\n",
        "    | BMI Range       | Category        | Health Risk          |\n",
        "    |-----------------|-----------------|----------------------|\n",
        "    | < 18.5          | Underweight     | Increased risk       |\n",
        "    | 18.5 - 24.9     | Normal weight   | Lowest risk          |\n",
        "    | 25.0 - 29.9     | Overweight      | Increased risk       |\n",
        "    | ≥ 30.0          | Obese           | High risk            |\n",
        "    \"\"\")\n",
        "\n",
        "# Health tips section\n",
        "st.markdown(\"---\")\n",
        "st.subheader(\"💡 Health & Fitness Tips\")\n",
        "st.markdown('<p class=\"health-tip\">🥗 Maintain a balanced diet with proper portion control</p>', unsafe_allow_html=True)\n",
        "st.markdown('<p class=\"health-tip\">🏃♀️ Engage in 150 minutes of moderate exercise weekly</p>', unsafe_allow_html=True)\n",
        "st.markdown('<p class=\"health-tip\">💤 Get 7-9 hours of quality sleep each night</p>', unsafe_allow_html=True)\n",
        "st.markdown('<p class=\"health-tip\">🚰 Drink 2-3 liters of water daily</p>', unsafe_allow_html=True)\n",
        "\n",
        "# Disclaimer\n",
        "st.markdown(\"---\")\n",
        "st.caption(\"ℹ️ Disclaimer: BMI is a simple screening tool and doesn't account for muscle mass, bone density, or body composition. Consult a healthcare professional for comprehensive health assessment.\")"
      ],
      "metadata": {
        "colab": {
          "base_uri": "https://localhost:8080/"
        },
        "id": "G6tWbSiFjjJ6",
        "outputId": "5e45cbb8-1b6c-44d8-c013-8bf53da45075"
      },
      "execution_count": 3,
      "outputs": [
        {
          "output_type": "stream",
          "name": "stdout",
          "text": [
            "Overwriting app.py\n"
          ]
        }
      ]
    },
    {
      "cell_type": "code",
      "source": [
        "!streamlit run app.py --server.port 8501 --server.headless true"
      ],
      "metadata": {
        "colab": {
          "base_uri": "https://localhost:8080/"
        },
        "id": "OaOG83UcmYzv",
        "outputId": "edf1a571-e14e-4da8-c011-e16aa81af5eb"
      },
      "execution_count": null,
      "outputs": [
        {
          "output_type": "stream",
          "name": "stdout",
          "text": [
            "\n",
            "Collecting usage statistics. To deactivate, set browser.gatherUsageStats to false.\n",
            "\u001b[0m\n",
            "\u001b[0m\n",
            "\u001b[34m\u001b[1m  You can now view your Streamlit app in your browser.\u001b[0m\n",
            "\u001b[0m\n",
            "\u001b[34m  Local URL: \u001b[0m\u001b[1mhttp://localhost:8501\u001b[0m\n",
            "\u001b[34m  Network URL: \u001b[0m\u001b[1mhttp://172.28.0.12:8501\u001b[0m\n",
            "\u001b[34m  External URL: \u001b[0m\u001b[1mhttp://34.106.155.223:8501\u001b[0m\n",
            "\u001b[0m\n"
          ]
        }
      ]
    }
  ]
}